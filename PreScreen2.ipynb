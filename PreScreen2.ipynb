{
  "nbformat": 4,
  "nbformat_minor": 0,
  "metadata": {
    "colab": {
      "provenance": [],
      "mount_file_id": "1BrrHeISqMG7aAjxHxpdWAThhFahFVqZ_",
      "authorship_tag": "ABX9TyN3hcgi45EqJhISG+KVFCD9",
      "include_colab_link": true
    },
    "kernelspec": {
      "name": "python3",
      "display_name": "Python 3"
    },
    "language_info": {
      "name": "python"
    }
  },
  "cells": [
    {
      "cell_type": "markdown",
      "metadata": {
        "id": "view-in-github",
        "colab_type": "text"
      },
      "source": [
        "<a href=\"https://colab.research.google.com/github/raysky9999/preScreen/blob/main/PreScreen2.ipynb\" target=\"_parent\"><img src=\"https://colab.research.google.com/assets/colab-badge.svg\" alt=\"Open In Colab\"/></a>"
      ]
    },
    {
      "cell_type": "code",
      "execution_count": 1,
      "metadata": {
        "colab": {
          "base_uri": "https://localhost:8080/"
        },
        "id": "NhfAvFXJTlrM",
        "outputId": "7715970c-01bb-4fc0-9f3a-87558899fe99"
      },
      "outputs": [
        {
          "output_type": "stream",
          "name": "stdout",
          "text": [
            "Mounted at /content/drive\n"
          ]
        }
      ],
      "source": [
        "import pandas as pd\n",
        "from google.colab import drive\n",
        "drive.mount('/content/drive')\n",
        "path = 'drive/MyDrive/Colab Notebooks/'"
      ]
    },
    {
      "cell_type": "code",
      "source": [
        "df = pd.read_csv(path + 'palm_ffb.csv')\n"
      ],
      "metadata": {
        "id": "LyeUoep9UfCW"
      },
      "execution_count": 2,
      "outputs": []
    },
    {
      "cell_type": "code",
      "source": [
        "df.describe()"
      ],
      "metadata": {
        "colab": {
          "base_uri": "https://localhost:8080/",
          "height": 300
        },
        "id": "bTNcpuHHVjNx",
        "outputId": "1a786066-56b5-4b9c-c0e5-abbe956d8045"
      },
      "execution_count": 3,
      "outputs": [
        {
          "output_type": "execute_result",
          "data": {
            "text/plain": [
              "       SoilMoisture  Average_Temp    Min_Temp    Max_Temp  Precipitation  \\\n",
              "count    130.000000    130.000000  130.000000  130.000000     130.000000   \n",
              "mean     527.646923     26.849918   21.379231   33.851538     188.980769   \n",
              "std       57.367844      0.651413    0.688971    1.079638      80.237210   \n",
              "min      380.700000     25.158065   18.900000   31.100000       2.000000   \n",
              "25%      488.625000     26.442285   21.000000   33.100000     140.300000   \n",
              "50%      538.300000     26.930645   21.500000   33.900000     182.150000   \n",
              "75%      571.025000     27.270726   21.800000   34.600000     226.100000   \n",
              "max      647.300000     28.580000   22.600000   36.000000     496.100000   \n",
              "\n",
              "       Working_days   HA_Harvested   FFB_Yield  \n",
              "count    130.000000     130.000000  130.000000  \n",
              "mean      24.753846  793404.491565    1.602231  \n",
              "std        1.239289   34440.893854    0.281751  \n",
              "min       21.000000  683431.944400    1.080000  \n",
              "25%       24.000000  768966.949100    1.390000  \n",
              "50%       25.000000  790036.158050    1.585000  \n",
              "75%       26.000000  821989.235250    1.807500  \n",
              "max       27.000000  882254.225400    2.270000  "
            ],
            "text/html": [
              "\n",
              "  <div id=\"df-822c0c03-93c6-4d71-b24d-eae9ce703833\">\n",
              "    <div class=\"colab-df-container\">\n",
              "      <div>\n",
              "<style scoped>\n",
              "    .dataframe tbody tr th:only-of-type {\n",
              "        vertical-align: middle;\n",
              "    }\n",
              "\n",
              "    .dataframe tbody tr th {\n",
              "        vertical-align: top;\n",
              "    }\n",
              "\n",
              "    .dataframe thead th {\n",
              "        text-align: right;\n",
              "    }\n",
              "</style>\n",
              "<table border=\"1\" class=\"dataframe\">\n",
              "  <thead>\n",
              "    <tr style=\"text-align: right;\">\n",
              "      <th></th>\n",
              "      <th>SoilMoisture</th>\n",
              "      <th>Average_Temp</th>\n",
              "      <th>Min_Temp</th>\n",
              "      <th>Max_Temp</th>\n",
              "      <th>Precipitation</th>\n",
              "      <th>Working_days</th>\n",
              "      <th>HA_Harvested</th>\n",
              "      <th>FFB_Yield</th>\n",
              "    </tr>\n",
              "  </thead>\n",
              "  <tbody>\n",
              "    <tr>\n",
              "      <th>count</th>\n",
              "      <td>130.000000</td>\n",
              "      <td>130.000000</td>\n",
              "      <td>130.000000</td>\n",
              "      <td>130.000000</td>\n",
              "      <td>130.000000</td>\n",
              "      <td>130.000000</td>\n",
              "      <td>130.000000</td>\n",
              "      <td>130.000000</td>\n",
              "    </tr>\n",
              "    <tr>\n",
              "      <th>mean</th>\n",
              "      <td>527.646923</td>\n",
              "      <td>26.849918</td>\n",
              "      <td>21.379231</td>\n",
              "      <td>33.851538</td>\n",
              "      <td>188.980769</td>\n",
              "      <td>24.753846</td>\n",
              "      <td>793404.491565</td>\n",
              "      <td>1.602231</td>\n",
              "    </tr>\n",
              "    <tr>\n",
              "      <th>std</th>\n",
              "      <td>57.367844</td>\n",
              "      <td>0.651413</td>\n",
              "      <td>0.688971</td>\n",
              "      <td>1.079638</td>\n",
              "      <td>80.237210</td>\n",
              "      <td>1.239289</td>\n",
              "      <td>34440.893854</td>\n",
              "      <td>0.281751</td>\n",
              "    </tr>\n",
              "    <tr>\n",
              "      <th>min</th>\n",
              "      <td>380.700000</td>\n",
              "      <td>25.158065</td>\n",
              "      <td>18.900000</td>\n",
              "      <td>31.100000</td>\n",
              "      <td>2.000000</td>\n",
              "      <td>21.000000</td>\n",
              "      <td>683431.944400</td>\n",
              "      <td>1.080000</td>\n",
              "    </tr>\n",
              "    <tr>\n",
              "      <th>25%</th>\n",
              "      <td>488.625000</td>\n",
              "      <td>26.442285</td>\n",
              "      <td>21.000000</td>\n",
              "      <td>33.100000</td>\n",
              "      <td>140.300000</td>\n",
              "      <td>24.000000</td>\n",
              "      <td>768966.949100</td>\n",
              "      <td>1.390000</td>\n",
              "    </tr>\n",
              "    <tr>\n",
              "      <th>50%</th>\n",
              "      <td>538.300000</td>\n",
              "      <td>26.930645</td>\n",
              "      <td>21.500000</td>\n",
              "      <td>33.900000</td>\n",
              "      <td>182.150000</td>\n",
              "      <td>25.000000</td>\n",
              "      <td>790036.158050</td>\n",
              "      <td>1.585000</td>\n",
              "    </tr>\n",
              "    <tr>\n",
              "      <th>75%</th>\n",
              "      <td>571.025000</td>\n",
              "      <td>27.270726</td>\n",
              "      <td>21.800000</td>\n",
              "      <td>34.600000</td>\n",
              "      <td>226.100000</td>\n",
              "      <td>26.000000</td>\n",
              "      <td>821989.235250</td>\n",
              "      <td>1.807500</td>\n",
              "    </tr>\n",
              "    <tr>\n",
              "      <th>max</th>\n",
              "      <td>647.300000</td>\n",
              "      <td>28.580000</td>\n",
              "      <td>22.600000</td>\n",
              "      <td>36.000000</td>\n",
              "      <td>496.100000</td>\n",
              "      <td>27.000000</td>\n",
              "      <td>882254.225400</td>\n",
              "      <td>2.270000</td>\n",
              "    </tr>\n",
              "  </tbody>\n",
              "</table>\n",
              "</div>\n",
              "      <button class=\"colab-df-convert\" onclick=\"convertToInteractive('df-822c0c03-93c6-4d71-b24d-eae9ce703833')\"\n",
              "              title=\"Convert this dataframe to an interactive table.\"\n",
              "              style=\"display:none;\">\n",
              "        \n",
              "  <svg xmlns=\"http://www.w3.org/2000/svg\" height=\"24px\"viewBox=\"0 0 24 24\"\n",
              "       width=\"24px\">\n",
              "    <path d=\"M0 0h24v24H0V0z\" fill=\"none\"/>\n",
              "    <path d=\"M18.56 5.44l.94 2.06.94-2.06 2.06-.94-2.06-.94-.94-2.06-.94 2.06-2.06.94zm-11 1L8.5 8.5l.94-2.06 2.06-.94-2.06-.94L8.5 2.5l-.94 2.06-2.06.94zm10 10l.94 2.06.94-2.06 2.06-.94-2.06-.94-.94-2.06-.94 2.06-2.06.94z\"/><path d=\"M17.41 7.96l-1.37-1.37c-.4-.4-.92-.59-1.43-.59-.52 0-1.04.2-1.43.59L10.3 9.45l-7.72 7.72c-.78.78-.78 2.05 0 2.83L4 21.41c.39.39.9.59 1.41.59.51 0 1.02-.2 1.41-.59l7.78-7.78 2.81-2.81c.8-.78.8-2.07 0-2.86zM5.41 20L4 18.59l7.72-7.72 1.47 1.35L5.41 20z\"/>\n",
              "  </svg>\n",
              "      </button>\n",
              "      \n",
              "  <style>\n",
              "    .colab-df-container {\n",
              "      display:flex;\n",
              "      flex-wrap:wrap;\n",
              "      gap: 12px;\n",
              "    }\n",
              "\n",
              "    .colab-df-convert {\n",
              "      background-color: #E8F0FE;\n",
              "      border: none;\n",
              "      border-radius: 50%;\n",
              "      cursor: pointer;\n",
              "      display: none;\n",
              "      fill: #1967D2;\n",
              "      height: 32px;\n",
              "      padding: 0 0 0 0;\n",
              "      width: 32px;\n",
              "    }\n",
              "\n",
              "    .colab-df-convert:hover {\n",
              "      background-color: #E2EBFA;\n",
              "      box-shadow: 0px 1px 2px rgba(60, 64, 67, 0.3), 0px 1px 3px 1px rgba(60, 64, 67, 0.15);\n",
              "      fill: #174EA6;\n",
              "    }\n",
              "\n",
              "    [theme=dark] .colab-df-convert {\n",
              "      background-color: #3B4455;\n",
              "      fill: #D2E3FC;\n",
              "    }\n",
              "\n",
              "    [theme=dark] .colab-df-convert:hover {\n",
              "      background-color: #434B5C;\n",
              "      box-shadow: 0px 1px 3px 1px rgba(0, 0, 0, 0.15);\n",
              "      filter: drop-shadow(0px 1px 2px rgba(0, 0, 0, 0.3));\n",
              "      fill: #FFFFFF;\n",
              "    }\n",
              "  </style>\n",
              "\n",
              "      <script>\n",
              "        const buttonEl =\n",
              "          document.querySelector('#df-822c0c03-93c6-4d71-b24d-eae9ce703833 button.colab-df-convert');\n",
              "        buttonEl.style.display =\n",
              "          google.colab.kernel.accessAllowed ? 'block' : 'none';\n",
              "\n",
              "        async function convertToInteractive(key) {\n",
              "          const element = document.querySelector('#df-822c0c03-93c6-4d71-b24d-eae9ce703833');\n",
              "          const dataTable =\n",
              "            await google.colab.kernel.invokeFunction('convertToInteractive',\n",
              "                                                     [key], {});\n",
              "          if (!dataTable) return;\n",
              "\n",
              "          const docLinkHtml = 'Like what you see? Visit the ' +\n",
              "            '<a target=\"_blank\" href=https://colab.research.google.com/notebooks/data_table.ipynb>data table notebook</a>'\n",
              "            + ' to learn more about interactive tables.';\n",
              "          element.innerHTML = '';\n",
              "          dataTable['output_type'] = 'display_data';\n",
              "          await google.colab.output.renderOutput(dataTable, element);\n",
              "          const docLink = document.createElement('div');\n",
              "          docLink.innerHTML = docLinkHtml;\n",
              "          element.appendChild(docLink);\n",
              "        }\n",
              "      </script>\n",
              "    </div>\n",
              "  </div>\n",
              "  "
            ]
          },
          "metadata": {},
          "execution_count": 3
        }
      ]
    },
    {
      "cell_type": "code",
      "source": [],
      "metadata": {
        "id": "ay8it6fuVm1J"
      },
      "execution_count": 3,
      "outputs": []
    },
    {
      "cell_type": "code",
      "source": [
        "df.info()"
      ],
      "metadata": {
        "colab": {
          "base_uri": "https://localhost:8080/"
        },
        "id": "e5nMRdnqVqxp",
        "outputId": "62456ed0-7e78-4a9c-c131-1badaf5ba086"
      },
      "execution_count": 4,
      "outputs": [
        {
          "output_type": "stream",
          "name": "stdout",
          "text": [
            "<class 'pandas.core.frame.DataFrame'>\n",
            "RangeIndex: 130 entries, 0 to 129\n",
            "Data columns (total 9 columns):\n",
            " #   Column         Non-Null Count  Dtype  \n",
            "---  ------         --------------  -----  \n",
            " 0   Date           130 non-null    object \n",
            " 1   SoilMoisture   130 non-null    float64\n",
            " 2   Average_Temp   130 non-null    float64\n",
            " 3   Min_Temp       130 non-null    float64\n",
            " 4   Max_Temp       130 non-null    float64\n",
            " 5   Precipitation  130 non-null    float64\n",
            " 6   Working_days   130 non-null    int64  \n",
            " 7   HA_Harvested   130 non-null    float64\n",
            " 8   FFB_Yield      130 non-null    float64\n",
            "dtypes: float64(7), int64(1), object(1)\n",
            "memory usage: 9.3+ KB\n"
          ]
        }
      ]
    },
    {
      "cell_type": "code",
      "source": [],
      "metadata": {
        "id": "DlgxVp8IXO1B"
      },
      "execution_count": 4,
      "outputs": []
    }
  ]
}